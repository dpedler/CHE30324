{
  "nbformat": 4,
  "nbformat_minor": 0,
  "metadata": {
    "colab": {
      "name": "Blending_Tank.ipynb",
      "version": "0.3.2",
      "provenance": [],
      "include_colab_link": true
    },
    "kernelspec": {
      "display_name": "Python 3",
      "language": "python",
      "name": "python3"
    }
  },
  "cells": [
    {
      "cell_type": "markdown",
      "metadata": {
        "id": "view-in-github",
        "colab_type": "text"
      },
      "source": [
        "<a href=\"https://colab.research.google.com/github/dpedler/CHE30324/blob/master/Blending_Tank_DRP.ipynb\" target=\"_parent\"><img src=\"https://colab.research.google.com/assets/colab-badge.svg\" alt=\"Open In Colab\"/></a>"
      ]
    },
    {
      "metadata": {
        "id": "t6f8ZAnMspJM",
        "colab_type": "text"
      },
      "cell_type": "markdown",
      "source": [
        "# Simulation of an Unsteady State Blending Tank"
      ]
    },
    {
      "metadata": {
        "id": "g-PTT5yxspJP",
        "colab_type": "text"
      },
      "cell_type": "markdown",
      "source": [
        "## Process Model\n",
        "\n",
        "The following model has been developed for a blending tank. Stream 1 consists of a process recycle stream with mass flow $w_1$ and containing a key component with mass fraction $x_1$. Typical values for $w_1$ and $x_1$ are 500 kg/min and 0.4, respectively, but either value may change due to process disturbances. Stream 2 has a mass fraction $x_2$ = 0.75 and mass flow $w_2$, and is combined with stream 1 in a well-mixed blending tank. The resulting stream is drained from the bottom of the blending tank. The process requires the mixed stream to have a mass fraction $x = 0.5$.\n",
        "\n",
        "Assuming the tank is well-mixed and the streams have a constant density $\\rho$ = 900 kg/m**3, the unsteady model is given by\n",
        "\n",
        "\\begin{align*}\n",
        "\\frac{dV}{dt} & = \\frac{1}{\\rho}(w_1 + w_2 - w)\\\\\n",
        "\\frac{dx}{dt} & = \\frac{1}{\\rho V}(w_1 (x_1 - x) + w_2 (x_2 - x))\n",
        "\\end{align*}\n",
        "\n",
        "where $V$ is the tank volume. The target value for $V$ is 2 cubic meters. The tank volume must never exceed 4 cubic meters, and must never fall below 0."
      ]
    },
    {
      "metadata": {
        "id": "-pDtLjZSspJR",
        "colab_type": "code",
        "colab": {}
      },
      "cell_type": "code",
      "source": [
        "# initializations\n",
        "%matplotlib inline\n",
        "import numpy as np\n",
        "import matplotlib.pyplot as plt\n",
        "from scipy.integrate import odeint"
      ],
      "execution_count": 0,
      "outputs": []
    },
    {
      "metadata": {
        "id": "TbUBxu9PspJY",
        "colab_type": "text"
      },
      "cell_type": "markdown",
      "source": [
        "## Nominal Parameter Values"
      ]
    },
    {
      "metadata": {
        "id": "P0Gp1fbKspJa",
        "colab_type": "code",
        "colab": {}
      },
      "cell_type": "code",
      "source": [
        "# These initial values correspond to a nominal steady state\n",
        "V = 2.0           # tank volume, m**3\n",
        "rho = 900.0       # density, kg/m**3\n",
        "\n",
        "# stream 1\n",
        "w1  = 500.0       # nominal flow of stream 1, kg/min\n",
        "x1 = 0.4          # nominal composition of stream 1, mass fraction\n",
        "\n",
        "# stream 2\n",
        "w2  = 200.0       # nominal flow of stream 2, kg/min\n",
        "x2 = 0.75         # nominal composition of stream 2, mass fraction\n",
        "\n",
        "# stream 3 -- corresponding steady state values\n",
        "w = 700.0         # nominal flow of the outlet stream, kg/min\n",
        "x  = 0.5          # nominal composition of the outlet stream, mass fraction"
      ],
      "execution_count": 0,
      "outputs": []
    },
    {
      "metadata": {
        "id": "_ZXfy5f7spJd",
        "colab_type": "text"
      },
      "cell_type": "markdown",
      "source": [
        "## Model Fuctions\n",
        "\n",
        "The next cell defines a Python function to evaluate the right-hand-side of the differential equations. Details on the required function are given in the [documentation for `odeint`](https://docs.scipy.org/doc/scipy/reference/generated/scipy.integrate.odeint.html)."
      ]
    },
    {
      "metadata": {
        "id": "AEGXToQdspJd",
        "colab_type": "code",
        "colab": {}
      },
      "cell_type": "code",
      "source": [
        "def blending_tank(y, t):\n",
        "    \"\"\"\n",
        "    y is a 2 element list containing values for V and x\n",
        "    t is the current time\n",
        "    \"\"\"\n",
        "    V, x = y                                   # unpack list of dependent variables\n",
        "    dVdt = (w1 + w2 - w)/rho                   # dV/dt\n",
        "    dxdt = (w1*(x1 - x) + w2*(x2 - x))/(rho*V) # dx/dt\n",
        "    return [dVdt, dxdt]                        # return list of derivatives"
      ],
      "execution_count": 0,
      "outputs": []
    },
    {
      "metadata": {
        "id": "9ITYBW-KspJg",
        "colab_type": "text"
      },
      "cell_type": "markdown",
      "source": [
        "## Simulation Study 1: Start Up\n",
        "\n",
        "For the first simulation we will assume the initial composition in the blending tank is $x = 0$. "
      ]
    },
    {
      "metadata": {
        "id": "orfbLB8-spJh",
        "colab_type": "code",
        "colab": {}
      },
      "cell_type": "code",
      "source": [
        "# define time steps at which to compute values of the solution\n",
        "tstart = 0\n",
        "tstop = 40\n",
        "nsteps = 101\n",
        "t = np.linspace(tstart, tstop, nsteps)\n",
        "\n",
        "# initial conditions\n",
        "Vinitial = 2\n",
        "xinitial = 0\n",
        "ic = [Vinitial, xinitial]\n",
        "\n",
        "# compute solution\n",
        "soln = odeint(blendingtanks, ic, t)"
      ],
      "execution_count": 0,
      "outputs": []
    },
    {
      "metadata": {
        "id": "HVuy9yHCspJj",
        "colab_type": "text"
      },
      "cell_type": "markdown",
      "source": [
        "We create a utility function to plot the data that we can reuse for additional simulation studies."
      ]
    },
    {
      "metadata": {
        "id": "2htE7loNspJk",
        "colab_type": "code",
        "colab": {},
        "outputId": "6155f5ff-8ee3-4c3b-c892-ec0b83ce7ef4"
      },
      "cell_type": "code",
      "source": [
        "# plotting\n",
        "def plot(t, soln):\n",
        "    # the solution consists of a list of data points. Each data point is \n",
        "    # 2 element list, the first value is V, the second is x. To extract\n",
        "    V = soln[:, 0]\n",
        "    x = soln[:, 1]\n",
        "    \n",
        "    plt.figure(figsize=(10,5))\n",
        "    plt.subplot(2,1,1)\n",
        "    plt.plot(t, V)\n",
        "    plt.title('Volume')\n",
        "    plt.xlabel('time / min')\n",
        "    plt.ylabel('cubic meters')\n",
        "    plt.grid()\n",
        "\n",
        "    plt.subplot(2,1,2)\n",
        "    plt.plot(t, x)\n",
        "    plt.title('Composition')\n",
        "    plt.xlabel('time / min')\n",
        "    plt.ylabel('mole fraction')\n",
        "    plt.grid()\n",
        "\n",
        "    plt.tight_layout()\n",
        "    \n",
        "plot(t, soln)"
      ],
      "execution_count": 0,
      "outputs": [
        {
          "output_type": "display_data",
          "data": {
            "image/png": "[encoded data removed]",
            "text/plain": [
              "<Figure size 720x360 with 2 Axes>"
            ]
          },
          "metadata": {
            "tags": [],
            "needs_background": "light"
          }
        }
      ]
    },
    {
      "metadata": {
        "id": "jWxqDNHSspJp",
        "colab_type": "text"
      },
      "cell_type": "markdown",
      "source": [
        "## Simulation Study 2: Change in Mass Flowrate $w_1$\n",
        "\n",
        "Here we assume the blending tank is initially at steady-state, and then inlet mass flowrate $w_1$ falls from 500 kg/min to 400 kg/min. If no other parameter is changed, what happens?\n",
        "\n",
        "### Steady-State Parameter Values"
      ]
    },
    {
      "metadata": {
        "id": "CDnr32eGspJp",
        "colab_type": "code",
        "colab": {}
      },
      "cell_type": "code",
      "source": [
        "# These initial values correspond to a nominal steady state\n",
        "V = 2.0           # tank volume, m**3\n",
        "rho = 900.0       # density, kg/m**3\n",
        "\n",
        "# stream 1\n",
        "w1  = 500.0       # nominal flow of stream 1, kg/min\n",
        "x1 = 0.4          # nominal composition of stream 1, mass fraction\n",
        "\n",
        "# stream 2\n",
        "w2  = 200.0       # nominal flow of stream 2, kg/min\n",
        "x2 = 0.75         # nominal composition of stream 2, mass fraction\n",
        "\n",
        "# stream 3 -- corresponding steady state values\n",
        "w = 700.0         # nominal flow of the outlet stream, kg/min\n",
        "x  = 0.5          # nominal composition of the outlet stream, mass fraction"
      ],
      "execution_count": 0,
      "outputs": []
    },
    {
      "metadata": {
        "id": "kYIME9LPspJr",
        "colab_type": "text"
      },
      "cell_type": "markdown",
      "source": [
        "Change $w_1$ from 500 kg/min to 400 kg/min"
      ]
    },
    {
      "metadata": {
        "id": "eULkv1azspJr",
        "colab_type": "code",
        "colab": {}
      },
      "cell_type": "code",
      "source": [
        "w1 = 400.0"
      ],
      "execution_count": 0,
      "outputs": []
    },
    {
      "metadata": {
        "id": "MPrE_5oSspJt",
        "colab_type": "code",
        "colab": {},
        "outputId": "0dc638cb-d429-4d41-b752-2109a7ec22cb"
      },
      "cell_type": "code",
      "source": [
        "# define time steps at which to compute values of the solution\n",
        "tstart = 0\n",
        "tstop = 40\n",
        "nsteps = 101\n",
        "t = np.linspace(tstart, tstop, nsteps)\n",
        "\n",
        "# initial conditions\n",
        "Vinitial = V\n",
        "xinitial = x\n",
        "ic = [Vinitial, xinitial]\n",
        "\n",
        "# compute solution\n",
        "soln = odeint(blending_tank, ic, t)\n",
        "plot(t, soln)"
      ],
      "execution_count": 0,
      "outputs": [
        {
          "output_type": "display_data",
          "data": {
            "image/png": "[encoded data removed]",
            "text/plain": [
              "<Figure size 720x360 with 2 Axes>"
            ]
          },
          "metadata": {
            "tags": [],
            "needs_background": "light"
          }
        }
      ]
    },
    {
      "metadata": {
        "id": "Dnw0TUT3spJw",
        "colab_type": "text"
      },
      "cell_type": "markdown",
      "source": [
        "### Results\n",
        "\n",
        "The result of changing $w_1$ from 500 kg/min to 400 kg/min is for the blending tank to slowly run dry, finally emptying out at about 18 min. The outlet composition rises from a mole fracton of 0.5 to about 0.517 over the same period."
      ]
    },
    {
      "metadata": {
        "id": "vxIq1X-GspJw",
        "colab_type": "text"
      },
      "cell_type": "markdown",
      "source": [
        "## Simulation Study 3: Level Controller\n",
        "\n",
        "The previous simulation shows that the blending eventually runs dry if the inlet flowrate $w_1$ decreases and there is no change in any other parameter value. This would be a bad thing to happen in an industrial setting. So the question is whether we can add some additional logic to the model (i.e., a controller) that will avoid this undesirable outcome.\n",
        "\n",
        "For example, let's consider a level controller of the form\n",
        "\n",
        "$$w = \\bar{w} - K_c (V_{sp} - V)$$\n",
        "\n",
        "where $w$ is the outlet flow of the blending tank. The idea is that the outlet flow is increased if the measured volume $V$ is less than a **setpoint** value $V_{sp}$, or increased if $V$ is greater than $V_{sp}$. The value $\\bar{w}$ is a nominal value of the outlet flowrate. The term $-K_c(V_{sp} - V)$ is compensating action designed to mitigate the impact of disturbances to the input parameters. $K_c$ is a coefficient that we'll determine by simulation.\n",
        "\n",
        "### Modified model"
      ]
    },
    {
      "metadata": {
        "id": "-EsTNyBespJw",
        "colab_type": "code",
        "colab": {}
      },
      "cell_type": "code",
      "source": [
        "def blending_tank_level_control(y, t):\n",
        "    \"\"\"\n",
        "    y is a 2 element list containing values for V and x\n",
        "    t is the current time\n",
        "    \"\"\"\n",
        "    V, x = y                                   # unpack list of dependent variables\n",
        "    w = w_bar - Kc*(Vsp - V)                   # level control rule\n",
        "    dVdt = (w1 + w2 - w)/rho                   # dV/dt\n",
        "    dxdt = (w1*(x1 - x) + w2*(x2 - x))/(rho*V) # dx/dt\n",
        "    return [dVdt, dxdt]                        # return list of derivatives"
      ],
      "execution_count": 0,
      "outputs": []
    },
    {
      "metadata": {
        "id": "-BUHPwr7spJy",
        "colab_type": "text"
      },
      "cell_type": "markdown",
      "source": [
        "### Steady State Parameter Values"
      ]
    },
    {
      "metadata": {
        "id": "ccNoxXAIspJy",
        "colab_type": "code",
        "colab": {}
      },
      "cell_type": "code",
      "source": [
        "# These initial values correspond to a nominal steady state\n",
        "V = 2.0           # tank volume, m**3\n",
        "rho = 900.0       # density, kg/m**3\n",
        "\n",
        "# stream 1\n",
        "w1  = 500.0       # nominal flow of stream 1, kg/min\n",
        "x1 = 0.4          # nominal composition of stream 1, mass fraction\n",
        "\n",
        "# stream 2\n",
        "w2  = 200.0       # nominal flow of stream 2, kg/min\n",
        "x2 = 0.75         # nominal composition of stream 2, mass fraction\n",
        "\n",
        "# stream 3 -- corresponding steady state values\n",
        "w = 700.0         # nominal flow of the outlet stream, kg/min\n",
        "x  = 0.5          # nominal composition of the outlet stream, mass fraction"
      ],
      "execution_count": 0,
      "outputs": []
    },
    {
      "metadata": {
        "id": "_doSGT7rspJ0",
        "colab_type": "text"
      },
      "cell_type": "markdown",
      "source": [
        "### Control Parameters"
      ]
    },
    {
      "metadata": {
        "id": "UeM1NPGyspJ0",
        "colab_type": "code",
        "colab": {}
      },
      "cell_type": "code",
      "source": [
        "w1 = 400          # inlet disturbance\n",
        "w_bar = w         # control parameter\n",
        "Kc = 100          # control gain\n",
        "Vsp = 2           # volume setpoint"
      ],
      "execution_count": 0,
      "outputs": []
    },
    {
      "metadata": {
        "id": "7_sd9nA6spJ2",
        "colab_type": "code",
        "colab": {},
        "outputId": "a8922f09-2eef-4bc3-a667-3dfbe38254ad"
      },
      "cell_type": "code",
      "source": [
        "# define time steps at which to compute values of the solution\n",
        "tstart = 0\n",
        "tstop = 40\n",
        "nsteps = 101\n",
        "t = np.linspace(tstart, tstop, nsteps)\n",
        "\n",
        "# initial conditions\n",
        "Vinitial = V\n",
        "xinitial = x\n",
        "ic = [Vinitial, xinitial]\n",
        "\n",
        "# compute solution\n",
        "soln = odeint(blending_tank_level_control, ic, t)\n",
        "plot(t, soln)"
      ],
      "execution_count": 0,
      "outputs": [
        {
          "output_type": "display_data",
          "data": {
            "image/png": "[encoded data removed]",
            "text/plain": [
              "<Figure size 720x360 with 2 Axes>"
            ]
          },
          "metadata": {
            "tags": [],
            "needs_background": "light"
          }
        }
      ]
    },
    {
      "metadata": {
        "id": "J6Tlgfc9spJ4",
        "colab_type": "text"
      },
      "cell_type": "markdown",
      "source": [
        "### Results\n",
        "\n",
        "The simulation of level control shows that it does keep the tank from going empty. But the tank also does not return to the original volume of 2 cubic meters, thus there is room for improvement. Furthermore, the outlet composition increases to 0.517 with no significant correction."
      ]
    },
    {
      "metadata": {
        "id": "gPh5t1b6spJ4",
        "colab_type": "text"
      },
      "cell_type": "markdown",
      "source": [
        "## Exercises"
      ]
    },
    {
      "metadata": {
        "id": "mDlb2JQ7spJ4",
        "colab_type": "text"
      },
      "cell_type": "markdown",
      "source": [
        "1. Open and save a copy of this notebook on your laptop. Then create a new section below entitled 'Simulation Study 4: Effects of Control Gain'.  Run simulations for at least 4 additional values of $K_c$ and note the results. What is the impact of larger values of $K_c$ on (a) final volume, (b) the final composition, and (c) how fast the controlled system reaches steady state?\n",
        "\n",
        "2. Create a new section below entitled 'Simulation Study 5: Composition Control'.  Starting with the model that includes a level control, add a second controller of the form $$w_2 = \\bar{w}_2 + K_{c2}(x_{sp} - x)$$ where $x_{sp}$ is the desired output composition (= 0.5), $\\bar{w}_2$ is the nominal value of $w_2$ (i.e., 200), and $K_{c2}$ is a constant that you need to choose. Now repeat the simulation study to see to what extent these two controllers mitigate the impact of the change in $w_1$."
      ]
    },
    {
      "metadata": {
        "id": "TISlyucbspJ5",
        "colab_type": "code",
        "colab": {}
      },
      "cell_type": "code",
      "source": [
        ""
      ],
      "execution_count": 0,
      "outputs": []
    }
  ]
}